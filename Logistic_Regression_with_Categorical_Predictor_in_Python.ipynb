{
  "cells": [
    {
      "cell_type": "markdown",
      "metadata": {
        "id": "T8q1i2HO8X-6"
      },
      "source": [
        "#  **Harnessing the Power of Logistic Regression for Categorical Predictors in Python**"
      ]
    },
    {
      "cell_type": "markdown",
      "metadata": {
        "id": "TvHa4lDI8X-_"
      },
      "source": [
        "## Shubham Kamboj"
      ]
    },
    {
      "cell_type": "markdown",
      "source": [
        "## Explore the Depths:\n",
        "\n",
        "* **Objective**\n",
        "* **Unlocking Insights from sud.csv Dataset**\n",
        "* **Essential Libraries for the Journey**\n",
        "* **Embarking on the Data Odyssey**\n",
        "* **Preparing the Ground: Creating Dummy Variables**\n",
        "* **Navigating the Divide: Splitting Data with Twinning Technique**\n",
        "* **Charting the Course: Fitting a Model with Logistic Regression**\n",
        "* **Navigating Uncharted Waters: Predicting 'admit' with Test Dataset**\n",
        "* **Mapping the Terrain: Evaluating Model Performance and Accuracy**\n"
      ],
      "metadata": {
        "id": "2ZsUfKCYQ79d"
      }
    },
    {
      "cell_type": "markdown",
      "source": [
        "## **Objective**"
      ],
      "metadata": {
        "id": "ejDktmRdS9L1"
      }
    },
    {
      "cell_type": "markdown",
      "source": [
        "The objective is to construct a logistic regression model to forecast student admission likelihood, considering variables such as GPA, GRE score, and institutional prestige."
      ],
      "metadata": {
        "id": "yf1cBt0LTAtu"
      }
    },
    {
      "cell_type": "markdown",
      "source": [
        "## **Unlocking Insights from sud.csv Dataset**"
      ],
      "metadata": {
        "id": "cq_feA8dSs8E"
      }
    },
    {
      "cell_type": "markdown",
      "source": [
        "The sud.csv dataset features a binary response variable, \"admit\", alongside three predictor variables: \"gre\", \"gpa\", and \"rank\". While \"gre\" and \"gpa\" are treated as continuous variables, \"rank\" assumes categorical values ranging from 1 to 4. Notably, institutions with a rank of 1 denote the highest prestige, whereas those with a rank of 4 represent the lowest. This structured dataset serves as a valuable resource for extracting actionable insights and driving informed decision-making processes."
      ],
      "metadata": {
        "id": "rrCJNff9SyX9"
      }
    },
    {
      "cell_type": "markdown",
      "source": [
        "## **Essential Libraries for the Journey**"
      ],
      "metadata": {
        "id": "kBuJXGfnUVXM"
      }
    },
    {
      "cell_type": "code",
      "execution_count": 1,
      "metadata": {
        "id": "M5HOo0YQ8X_A"
      },
      "outputs": [],
      "source": [
        "# Let's import the required packages\n",
        "import pandas as pd\n",
        "import numpy as np\n",
        "from sklearn.linear_model import LogisticRegression\n",
        "from sklearn.metrics import classification_report\n",
        "from sklearn.metrics import confusion_matrix\n",
        "from sklearn.metrics import f1_score"
      ]
    },
    {
      "cell_type": "markdown",
      "source": [
        "## **Embarking on the Data Odyssey**"
      ],
      "metadata": {
        "id": "PfpM-UUoUemE"
      }
    },
    {
      "cell_type": "code",
      "source": [
        "# Load the data using pandas.read_csv()\n",
        "df = pd.read_csv(\"sud.csv\")"
      ],
      "metadata": {
        "id": "x6TnQakvUP79"
      },
      "execution_count": 2,
      "outputs": []
    },
    {
      "cell_type": "code",
      "execution_count": 4,
      "metadata": {
        "id": "mGTXq74E8X_D",
        "outputId": "f71f7c1b-de95-42ee-a6d9-751df5fa8c1d",
        "colab": {
          "base_uri": "https://localhost:8080/"
        }
      },
      "outputs": [
        {
          "output_type": "stream",
          "name": "stdout",
          "text": [
            "Exploring the initial rows of the DataFrame:\n",
            "   admit  gre   gpa  rank\n",
            "0      0  380  3.61     3\n",
            "1      1  660  3.67     3\n",
            "2      1  800  4.00     1\n",
            "3      1  640  3.19     4\n",
            "4      0  520  2.93     4\n",
            "\n",
            "Additional insights:\n",
            " - The DataFrame comprises the first few rows, showcasing the dataset's structure and initial values.\n"
          ]
        }
      ],
      "source": [
        "# Delve into the DataFrame's initial observations\n",
        "print(\"Exploring the initial rows of the DataFrame:\")\n",
        "print(df.head())\n",
        "\n",
        "# Gain additional insights into the structure of the data\n",
        "print(\"\\nAdditional insights:\")\n",
        "print(\" - The DataFrame comprises the first few rows, showcasing the dataset's structure and initial values.\")\n"
      ]
    },
    {
      "cell_type": "markdown",
      "metadata": {
        "id": "IaXfkebY8X_E"
      },
      "source": [
        "The dataset comprises several key predictor variables:\n",
        "\n",
        "- `gpa`: Grade Point Average\n",
        "- `gre` score: Graduate Record Examination score\n",
        "- `rank`: Prestige of an applicant's undergraduate alma mater\n",
        "\n",
        "Additionally, the column `admit` serves as our binary target variable.\n"
      ]
    },
    {
      "cell_type": "markdown",
      "metadata": {
        "id": "m-y5RCVt8X_F"
      },
      "source": [
        "The presence of a column named 'rank' may pose an issue, as 'rank' is also a method within the pandas DataFrame library. Specifically, the 'rank' method calculates the ordered rank (1 through n) of a DataFrame or Series. To avoid potential conflicts and ensure clarity, we intend to rename our 'rank' column to 'prestige'."
      ]
    },
    {
      "cell_type": "code",
      "execution_count": 8,
      "metadata": {
        "id": "-Bw1KBov8X_F",
        "outputId": "59c996d3-e337-4be5-d1e5-ce124d2f64bd",
        "colab": {
          "base_uri": "https://localhost:8080/"
        }
      },
      "outputs": [
        {
          "output_type": "stream",
          "name": "stdout",
          "text": [
            "Updated Column Names:\n",
            "Index(['admit', 'gre', 'gpa', 'rank'], dtype='object')\n"
          ]
        }
      ],
      "source": [
        "# Assigning Custom Column Names\n",
        "df.columns = [\"admit\", \"gre\", \"gpa\", \"rank\"]\n",
        "# Displaying the Updated Column Names\n",
        "print(\"Updated Column Names:\")\n",
        "print(df.columns)\n"
      ]
    },
    {
      "cell_type": "code",
      "execution_count": null,
      "metadata": {
        "id": "uNgBiIrt8X_H"
      },
      "outputs": [],
      "source": [
        "df.describe()"
      ]
    },
    {
      "source": [
        "from matplotlib import pyplot as plt\n",
        "import seaborn as sns\n",
        "_df_4.groupby('index').size().plot(kind='barh', color=sns.palettes.mpl_palette('Dark2'))\n",
        "plt.gca().spines[['top', 'right',]].set_visible(False)"
      ],
      "cell_type": "code",
      "metadata": {
        "colab": {
          "base_uri": "https://localhost:8080/",
          "height": 430
        },
        "id": "9ugkkkDyb1Mi",
        "outputId": "452c8295-ae01-444d-e697-3f646cfc402c"
      },
      "execution_count": 11,
      "outputs": [
        {
          "output_type": "display_data",
          "data": {
            "text/plain": [
              "<Figure size 640x480 with 1 Axes>"
            ],
            "image/png": "[encoded data removed]"
          },
          "metadata": {}
        }
      ]
    },
    {
      "cell_type": "markdown",
      "source": [
        "### Addressing Class Imbalance:\n",
        "\n",
        "Observing a mean of 0.34 for the outcome variable highlights an imbalance within the dataset, indicating a disproportion between outcomes '0' and '1'. In such scenarios, where class distribution is uneven, the F1 score metric emerges as particularly crucial for evaluating classification models effectively. Its application will be further elucidated within this notebook.\n"
      ],
      "metadata": {
        "id": "uc3POQVmIqgF"
      }
    },
    {
      "cell_type": "markdown",
      "metadata": {
        "collapsed": true,
        "id": "GLjejqgk8X_J"
      },
      "source": [
        "## **Preparing the Ground: Creating Dummy Variables**"
      ]
    },
    {
      "cell_type": "markdown",
      "metadata": {
        "id": "WXPaDrMf8X_J"
      },
      "source": [
        "Utilizing the `pandas` library, we gain substantial control over the representation of categorical variables. In this context, we employ the `get_dummies` function to **encode** the \"prestige\" column into binary indicator variables.\n",
        "\n",
        "By invoking `get_dummies`, a new `DataFrame` is generated, featuring binary indicators for each category within the specified column. For instance, the \"prestige\" column, with four distinct levels (ranging from 1 to 4), yields a corresponding set of four binary columns.\n",
        "\n",
        "Upon execution of `get_dummies`, the resulting DataFrame comprises four columns, each populated with binary values (0 or 1), signifying the respective level to which the original data point belongs.\n",
        "\n"
      ]
    },
    {
      "cell_type": "code",
      "execution_count": null,
      "metadata": {
        "id": "lSt7ICQD8X_K"
      },
      "outputs": [],
      "source": [
        "dummy_ranks = pd.get_dummies(df['rank'], prefix = 'rank')\n",
        "dummy_ranks.head()"
      ]
    },
    {
      "cell_type": "markdown",
      "metadata": {
        "id": "YF4i0A8W8X_K"
      },
      "source": [
        "Create a clean data frame for our logistic regression model later:"
      ]
    },
    {
      "cell_type": "code",
      "execution_count": 17,
      "metadata": {
        "id": "txcI0PvM8X_L",
        "outputId": "02df4b92-4915-4973-9535-b542556cd08f",
        "colab": {
          "base_uri": "https://localhost:8080/",
          "height": 206
        }
      },
      "outputs": [
        {
          "output_type": "execute_result",
          "data": {
            "text/plain": [
              "   admit  gre   gpa  prestige_2  prestige_3  prestige_4\n",
              "0      0  380  3.61           0           1           0\n",
              "1      1  660  3.67           0           1           0\n",
              "2      1  800  4.00           0           0           0\n",
              "3      1  640  3.19           0           0           1\n",
              "4      0  520  2.93           0           0           1"
            ],
            "text/html": [
              "\n",
              "  <div id=\"df-d43cf006-3ae6-48b3-be4f-5f7560dbb413\" class=\"colab-df-container\">\n",
              "    <div>\n",
              "<style scoped>\n",
              "    .dataframe tbody tr th:only-of-type {\n",
              "        vertical-align: middle;\n",
              "    }\n",
              "\n",
              "    .dataframe tbody tr th {\n",
              "        vertical-align: top;\n",
              "    }\n",
              "\n",
              "    .dataframe thead th {\n",
              "        text-align: right;\n",
              "    }\n",
              "</style>\n",
              "<table border=\"1\" class=\"dataframe\">\n",
              "  <thead>\n",
              "    <tr style=\"text-align: right;\">\n",
              "      <th></th>\n",
              "      <th>admit</th>\n",
              "      <th>gre</th>\n",
              "      <th>gpa</th>\n",
              "      <th>prestige_2</th>\n",
              "      <th>prestige_3</th>\n",
              "      <th>prestige_4</th>\n",
              "    </tr>\n",
              "  </thead>\n",
              "  <tbody>\n",
              "    <tr>\n",
              "      <th>0</th>\n",
              "      <td>0</td>\n",
              "      <td>380</td>\n",
              "      <td>3.61</td>\n",
              "      <td>0</td>\n",
              "      <td>1</td>\n",
              "      <td>0</td>\n",
              "    </tr>\n",
              "    <tr>\n",
              "      <th>1</th>\n",
              "      <td>1</td>\n",
              "      <td>660</td>\n",
              "      <td>3.67</td>\n",
              "      <td>0</td>\n",
              "      <td>1</td>\n",
              "      <td>0</td>\n",
              "    </tr>\n",
              "    <tr>\n",
              "      <th>2</th>\n",
              "      <td>1</td>\n",
              "      <td>800</td>\n",
              "      <td>4.00</td>\n",
              "      <td>0</td>\n",
              "      <td>0</td>\n",
              "      <td>0</td>\n",
              "    </tr>\n",
              "    <tr>\n",
              "      <th>3</th>\n",
              "      <td>1</td>\n",
              "      <td>640</td>\n",
              "      <td>3.19</td>\n",
              "      <td>0</td>\n",
              "      <td>0</td>\n",
              "      <td>1</td>\n",
              "    </tr>\n",
              "    <tr>\n",
              "      <th>4</th>\n",
              "      <td>0</td>\n",
              "      <td>520</td>\n",
              "      <td>2.93</td>\n",
              "      <td>0</td>\n",
              "      <td>0</td>\n",
              "      <td>1</td>\n",
              "    </tr>\n",
              "  </tbody>\n",
              "</table>\n",
              "</div>\n",
              "    <div class=\"colab-df-buttons\">\n",
              "\n",
              "  <div class=\"colab-df-container\">\n",
              "    <button class=\"colab-df-convert\" onclick=\"convertToInteractive('df-d43cf006-3ae6-48b3-be4f-5f7560dbb413')\"\n",
              "            title=\"Convert this dataframe to an interactive table.\"\n",
              "            style=\"display:none;\">\n",
              "\n",
              "  <svg xmlns=\"http://www.w3.org/2000/svg\" height=\"24px\" viewBox=\"0 -960 960 960\">\n",
              "    <path d=\"M120-120v-720h720v720H120Zm60-500h600v-160H180v160Zm220 220h160v-160H400v160Zm0 220h160v-160H400v160ZM180-400h160v-160H180v160Zm440 0h160v-160H620v160ZM180-180h160v-160H180v160Zm440 0h160v-160H620v160Z\"/>\n",
              "  </svg>\n",
              "    </button>\n",
              "\n",
              "  <style>\n",
              "    .colab-df-container {\n",
              "      display:flex;\n",
              "      gap: 12px;\n",
              "    }\n",
              "\n",
              "    .colab-df-convert {\n",
              "      background-color: #E8F0FE;\n",
              "      border: none;\n",
              "      border-radius: 50%;\n",
              "      cursor: pointer;\n",
              "      display: none;\n",
              "      fill: #1967D2;\n",
              "      height: 32px;\n",
              "      padding: 0 0 0 0;\n",
              "      width: 32px;\n",
              "    }\n",
              "\n",
              "    .colab-df-convert:hover {\n",
              "      background-color: #E2EBFA;\n",
              "      box-shadow: 0px 1px 2px rgba(60, 64, 67, 0.3), 0px 1px 3px 1px rgba(60, 64, 67, 0.15);\n",
              "      fill: #174EA6;\n",
              "    }\n",
              "\n",
              "    .colab-df-buttons div {\n",
              "      margin-bottom: 4px;\n",
              "    }\n",
              "\n",
              "    [theme=dark] .colab-df-convert {\n",
              "      background-color: #3B4455;\n",
              "      fill: #D2E3FC;\n",
              "    }\n",
              "\n",
              "    [theme=dark] .colab-df-convert:hover {\n",
              "      background-color: #434B5C;\n",
              "      box-shadow: 0px 1px 3px 1px rgba(0, 0, 0, 0.15);\n",
              "      filter: drop-shadow(0px 1px 2px rgba(0, 0, 0, 0.3));\n",
              "      fill: #FFFFFF;\n",
              "    }\n",
              "  </style>\n",
              "\n",
              "    <script>\n",
              "      const buttonEl =\n",
              "        document.querySelector('#df-d43cf006-3ae6-48b3-be4f-5f7560dbb413 button.colab-df-convert');\n",
              "      buttonEl.style.display =\n",
              "        google.colab.kernel.accessAllowed ? 'block' : 'none';\n",
              "\n",
              "      async function convertToInteractive(key) {\n",
              "        const element = document.querySelector('#df-d43cf006-3ae6-48b3-be4f-5f7560dbb413');\n",
              "        const dataTable =\n",
              "          await google.colab.kernel.invokeFunction('convertToInteractive',\n",
              "                                                    [key], {});\n",
              "        if (!dataTable) return;\n",
              "\n",
              "        const docLinkHtml = 'Like what you see? Visit the ' +\n",
              "          '<a target=\"_blank\" href=https://colab.research.google.com/notebooks/data_table.ipynb>data table notebook</a>'\n",
              "          + ' to learn more about interactive tables.';\n",
              "        element.innerHTML = '';\n",
              "        dataTable['output_type'] = 'display_data';\n",
              "        await google.colab.output.renderOutput(dataTable, element);\n",
              "        const docLink = document.createElement('div');\n",
              "        docLink.innerHTML = docLinkHtml;\n",
              "        element.appendChild(docLink);\n",
              "      }\n",
              "    </script>\n",
              "  </div>\n",
              "\n",
              "\n",
              "<div id=\"df-09258da6-8e01-4212-862f-0df3ebb7cdb1\">\n",
              "  <button class=\"colab-df-quickchart\" onclick=\"quickchart('df-09258da6-8e01-4212-862f-0df3ebb7cdb1')\"\n",
              "            title=\"Suggest charts\"\n",
              "            style=\"display:none;\">\n",
              "\n",
              "<svg xmlns=\"http://www.w3.org/2000/svg\" height=\"24px\"viewBox=\"0 0 24 24\"\n",
              "     width=\"24px\">\n",
              "    <g>\n",
              "        <path d=\"M19 3H5c-1.1 0-2 .9-2 2v14c0 1.1.9 2 2 2h14c1.1 0 2-.9 2-2V5c0-1.1-.9-2-2-2zM9 17H7v-7h2v7zm4 0h-2V7h2v10zm4 0h-2v-4h2v4z\"/>\n",
              "    </g>\n",
              "</svg>\n",
              "  </button>\n",
              "\n",
              "<style>\n",
              "  .colab-df-quickchart {\n",
              "      --bg-color: #E8F0FE;\n",
              "      --fill-color: #1967D2;\n",
              "      --hover-bg-color: #E2EBFA;\n",
              "      --hover-fill-color: #174EA6;\n",
              "      --disabled-fill-color: #AAA;\n",
              "      --disabled-bg-color: #DDD;\n",
              "  }\n",
              "\n",
              "  [theme=dark] .colab-df-quickchart {\n",
              "      --bg-color: #3B4455;\n",
              "      --fill-color: #D2E3FC;\n",
              "      --hover-bg-color: #434B5C;\n",
              "      --hover-fill-color: #FFFFFF;\n",
              "      --disabled-bg-color: #3B4455;\n",
              "      --disabled-fill-color: #666;\n",
              "  }\n",
              "\n",
              "  .colab-df-quickchart {\n",
              "    background-color: var(--bg-color);\n",
              "    border: none;\n",
              "    border-radius: 50%;\n",
              "    cursor: pointer;\n",
              "    display: none;\n",
              "    fill: var(--fill-color);\n",
              "    height: 32px;\n",
              "    padding: 0;\n",
              "    width: 32px;\n",
              "  }\n",
              "\n",
              "  .colab-df-quickchart:hover {\n",
              "    background-color: var(--hover-bg-color);\n",
              "    box-shadow: 0 1px 2px rgba(60, 64, 67, 0.3), 0 1px 3px 1px rgba(60, 64, 67, 0.15);\n",
              "    fill: var(--button-hover-fill-color);\n",
              "  }\n",
              "\n",
              "  .colab-df-quickchart-complete:disabled,\n",
              "  .colab-df-quickchart-complete:disabled:hover {\n",
              "    background-color: var(--disabled-bg-color);\n",
              "    fill: var(--disabled-fill-color);\n",
              "    box-shadow: none;\n",
              "  }\n",
              "\n",
              "  .colab-df-spinner {\n",
              "    border: 2px solid var(--fill-color);\n",
              "    border-color: transparent;\n",
              "    border-bottom-color: var(--fill-color);\n",
              "    animation:\n",
              "      spin 1s steps(1) infinite;\n",
              "  }\n",
              "\n",
              "  @keyframes spin {\n",
              "    0% {\n",
              "      border-color: transparent;\n",
              "      border-bottom-color: var(--fill-color);\n",
              "      border-left-color: var(--fill-color);\n",
              "    }\n",
              "    20% {\n",
              "      border-color: transparent;\n",
              "      border-left-color: var(--fill-color);\n",
              "      border-top-color: var(--fill-color);\n",
              "    }\n",
              "    30% {\n",
              "      border-color: transparent;\n",
              "      border-left-color: var(--fill-color);\n",
              "      border-top-color: var(--fill-color);\n",
              "      border-right-color: var(--fill-color);\n",
              "    }\n",
              "    40% {\n",
              "      border-color: transparent;\n",
              "      border-right-color: var(--fill-color);\n",
              "      border-top-color: var(--fill-color);\n",
              "    }\n",
              "    60% {\n",
              "      border-color: transparent;\n",
              "      border-right-color: var(--fill-color);\n",
              "    }\n",
              "    80% {\n",
              "      border-color: transparent;\n",
              "      border-right-color: var(--fill-color);\n",
              "      border-bottom-color: var(--fill-color);\n",
              "    }\n",
              "    90% {\n",
              "      border-color: transparent;\n",
              "      border-bottom-color: var(--fill-color);\n",
              "    }\n",
              "  }\n",
              "</style>\n",
              "\n",
              "  <script>\n",
              "    async function quickchart(key) {\n",
              "      const quickchartButtonEl =\n",
              "        document.querySelector('#' + key + ' button');\n",
              "      quickchartButtonEl.disabled = true;  // To prevent multiple clicks.\n",
              "      quickchartButtonEl.classList.add('colab-df-spinner');\n",
              "      try {\n",
              "        const charts = await google.colab.kernel.invokeFunction(\n",
              "            'suggestCharts', [key], {});\n",
              "      } catch (error) {\n",
              "        console.error('Error during call to suggestCharts:', error);\n",
              "      }\n",
              "      quickchartButtonEl.classList.remove('colab-df-spinner');\n",
              "      quickchartButtonEl.classList.add('colab-df-quickchart-complete');\n",
              "    }\n",
              "    (() => {\n",
              "      let quickchartButtonEl =\n",
              "        document.querySelector('#df-09258da6-8e01-4212-862f-0df3ebb7cdb1 button');\n",
              "      quickchartButtonEl.style.display =\n",
              "        google.colab.kernel.accessAllowed ? 'block' : 'none';\n",
              "    })();\n",
              "  </script>\n",
              "</div>\n",
              "\n",
              "    </div>\n",
              "  </div>\n"
            ],
            "application/vnd.google.colaboratory.intrinsic+json": {
              "type": "dataframe",
              "variable_name": "data",
              "summary": "{\n  \"name\": \"data\",\n  \"rows\": 400,\n  \"fields\": [\n    {\n      \"column\": \"admit\",\n      \"properties\": {\n        \"dtype\": \"number\",\n        \"std\": 0,\n        \"min\": 0,\n        \"max\": 1,\n        \"num_unique_values\": 2,\n        \"samples\": [\n          1,\n          0\n        ],\n        \"semantic_type\": \"\",\n        \"description\": \"\"\n      }\n    },\n    {\n      \"column\": \"gre\",\n      \"properties\": {\n        \"dtype\": \"number\",\n        \"std\": 115,\n        \"min\": 220,\n        \"max\": 800,\n        \"num_unique_values\": 26,\n        \"samples\": [\n          540,\n          680\n        ],\n        \"semantic_type\": \"\",\n        \"description\": \"\"\n      }\n    },\n    {\n      \"column\": \"gpa\",\n      \"properties\": {\n        \"dtype\": \"number\",\n        \"std\": 0.3805667716303841,\n        \"min\": 2.26,\n        \"max\": 4.0,\n        \"num_unique_values\": 132,\n        \"samples\": [\n          2.71,\n          3.58\n        ],\n        \"semantic_type\": \"\",\n        \"description\": \"\"\n      }\n    },\n    {\n      \"column\": \"prestige_2\",\n      \"properties\": {\n        \"dtype\": \"number\",\n        \"std\": 0,\n        \"min\": 0,\n        \"max\": 1,\n        \"num_unique_values\": 2,\n        \"samples\": [\n          1,\n          0\n        ],\n        \"semantic_type\": \"\",\n        \"description\": \"\"\n      }\n    },\n    {\n      \"column\": \"prestige_3\",\n      \"properties\": {\n        \"dtype\": \"number\",\n        \"std\": 0,\n        \"min\": 0,\n        \"max\": 1,\n        \"num_unique_values\": 2,\n        \"samples\": [\n          0,\n          1\n        ],\n        \"semantic_type\": \"\",\n        \"description\": \"\"\n      }\n    },\n    {\n      \"column\": \"prestige_4\",\n      \"properties\": {\n        \"dtype\": \"number\",\n        \"std\": 0,\n        \"min\": 0,\n        \"max\": 1,\n        \"num_unique_values\": 2,\n        \"samples\": [\n          1,\n          0\n        ],\n        \"semantic_type\": \"\",\n        \"description\": \"\"\n      }\n    }\n  ]\n}"
            }
          },
          "metadata": {},
          "execution_count": 17
        }
      ],
      "source": [
        "dummy_ranks = pd.DataFrame({\n",
        "    'prestige_2': (df['rank'] == 2).astype(int),\n",
        "    'prestige_3': (df['rank'] == 3).astype(int),\n",
        "    'prestige_4': (df['rank'] == 4).astype(int)\n",
        "})\n",
        "\n",
        "cols_to_keep = ['admit', 'gre', 'gpa']\n",
        "data = df[cols_to_keep].join(dummy_ranks)\n",
        "data.head()"
      ]
    },
    {
      "cell_type": "markdown",
      "metadata": {
        "id": "nratbqKi8X_L"
      },
      "source": [
        "It's worth noting the omission of `prestige_1` in our analysis. Absence of a `1` value within the prestige levels 2 through 4 inherently suggests a level of `prestige_1`. By designating `prestige_1` as our baseline and excluding it from our model fitting, we effectively mitigate multicollinearity—the risk of the dummy variable trap arising from including a dummy variable for every category.\n"
      ]
    },
    {
      "cell_type": "markdown",
      "source": [
        "##  **Navigating the Divide: Splitting Data with Twinning Technique**"
      ],
      "metadata": {
        "id": "a1ozn82rD-12"
      }
    },
    {
      "cell_type": "markdown",
      "source": [
        "The Twinning technique partitions datasets into statistically similar disjoint sets, referred to as twins.\n",
        "\n",
        "To begin, let's install the twinning package:\n"
      ],
      "metadata": {
        "id": "WeY5SE-bExXo"
      }
    },
    {
      "cell_type": "code",
      "source": [
        "pip install git+https://github.com/avkl/twinning.git"
      ],
      "metadata": {
        "id": "j1AnvGIlE0KE",
        "colab": {
          "base_uri": "https://localhost:8080/"
        },
        "outputId": "606ccb0e-1285-4804-8eec-19c941244a91"
      },
      "execution_count": 18,
      "outputs": [
        {
          "output_type": "stream",
          "name": "stdout",
          "text": [
            "Collecting git+https://github.com/avkl/twinning.git\n",
            "  Cloning https://github.com/avkl/twinning.git to /tmp/pip-req-build-uv2khg4_\n",
            "  Running command git clone --filter=blob:none --quiet https://github.com/avkl/twinning.git /tmp/pip-req-build-uv2khg4_\n",
            "  Resolved https://github.com/avkl/twinning.git to commit 8c6ffdd73531039733a52f0f8cf67efe4f38383f\n",
            "  Preparing metadata (setup.py) ... \u001b[?25l\u001b[?25hdone\n",
            "Processing //tmp/pip-req-build-uv2khg4_/twinning_cpp (from twinning==1.0)\n",
            "  Installing build dependencies ... \u001b[?25l\u001b[?25hdone\n",
            "  Getting requirements to build wheel ... \u001b[?25l\u001b[?25hdone\n",
            "  Preparing metadata (pyproject.toml) ... \u001b[?25l\u001b[?25hdone\n",
            "Requirement already satisfied: numpy in /usr/local/lib/python3.10/dist-packages (from twinning==1.0) (1.25.2)\n",
            "Building wheels for collected packages: twinning, twinning_cpp\n",
            "  Building wheel for twinning (setup.py) ... \u001b[?25l\u001b[?25hdone\n",
            "  Created wheel for twinning: filename=twinning-1.0-py3-none-any.whl size=9434 sha256=22869a2338e712c507d0f4a67fedaf09fb1adc3d9c834e8286616f14089ff8f9\n",
            "  Stored in directory: /tmp/pip-ephem-wheel-cache-baksuvuo/wheels/b6/fc/85/f1685afe9f1e31f863d146afbc4fa65ec971797b51b80971d3\n",
            "  Building wheel for twinning_cpp (pyproject.toml) ... \u001b[?25l\u001b[?25hdone\n",
            "  Created wheel for twinning_cpp: filename=twinning_cpp-1.0-cp310-cp310-linux_x86_64.whl size=67917 sha256=3f12247faf9abe39e2533c82917936cbf0305064fcc9a2eedb32615dfd08f3e4\n",
            "  Stored in directory: /tmp/pip-ephem-wheel-cache-baksuvuo/wheels/1d/ac/36/418a02a909c82397dafd9fc1d8f38665a470290da6333b62d9\n",
            "Successfully built twinning twinning_cpp\n",
            "Installing collected packages: twinning_cpp, twinning\n",
            "Successfully installed twinning-1.0 twinning_cpp-1.0\n"
          ]
        }
      ]
    },
    {
      "cell_type": "code",
      "source": [
        "from twinning import twin"
      ],
      "metadata": {
        "id": "6ok8Lmn1FBqM"
      },
      "execution_count": 19,
      "outputs": []
    },
    {
      "cell_type": "markdown",
      "source": [
        "The following code creates an 80-20 partition of the dataset using the twin() function. It takes a numpy ndarray as the dataset and an integer parameter 'r' representing the inverse of the partitioning ratio. For an 80-20 split, 'r' is calculated as 1 / 0.2 = 5. The function returns the indices of the smaller twin.\n"
      ],
      "metadata": {
        "id": "YYZzA-NxFGgy"
      }
    },
    {
      "cell_type": "code",
      "source": [
        "twin_idx = twin(data.to_numpy(), r=5)"
      ],
      "metadata": {
        "id": "BUmRJoE3FNTr"
      },
      "execution_count": 20,
      "outputs": []
    },
    {
      "cell_type": "code",
      "source": [
        "twin_idx"
      ],
      "metadata": {
        "colab": {
          "base_uri": "https://localhost:8080/"
        },
        "id": "HZPXBnd8FYAv",
        "outputId": "b70ed5d8-623c-460c-a585-74f34c7a10b6"
      },
      "execution_count": 21,
      "outputs": [
        {
          "output_type": "execute_result",
          "data": {
            "text/plain": [
              "array([183, 270, 303, 377, 268, 194, 381,  42, 190,  28, 326, 260, 235,\n",
              "        86, 132, 161,  65, 258, 363, 232,  35, 323, 379, 349, 274, 259,\n",
              "         9, 353, 395, 325, 149, 113,  29, 332,  40,  69, 330, 114, 192,\n",
              "       367, 186,  32, 255, 196, 336, 123, 365, 108,  43, 170,  99, 168,\n",
              "       115, 147, 242, 301, 205, 263, 334, 306, 277, 207,  79, 241, 284,\n",
              "       372, 141, 313, 314, 136, 251,  80,  52, 199, 203, 166, 227, 238,\n",
              "        71,   2], dtype=uint64)"
            ]
          },
          "metadata": {},
          "execution_count": 21
        }
      ]
    },
    {
      "cell_type": "markdown",
      "source": [
        "Creating a dataframe by dropping indices in twin_idx to create bigger twin which will be used to train the model"
      ],
      "metadata": {
        "id": "AKeIxgx3Fwhc"
      }
    },
    {
      "cell_type": "code",
      "source": [
        "data_train=data.drop(data.index[[116, 327, 290, 201, 190, 390, 268, 391,  89, 370, 241,  79,  26,\n",
        "       364, 148, 316, 247, 232,  97, 298, 387, 138, 158, 326,  13, 160,\n",
        "       308,  93, 163, 240,  65,  73, 292,   9, 185, 149, 113,  29, 332,\n",
        "       366, 122, 396,  20, 271, 153, 169, 249, 399, 221, 114, 331,  54,\n",
        "       196, 245, 165, 103, 170,  99, 108, 304,  83,  47, 283, 230, 314,\n",
        "       111, 342, 282, 210,  16, 141,  27,  59, 289, 242, 301, 263,  12,\n",
        "       234, 237]])"
      ],
      "metadata": {
        "id": "iYAOd74lFz7l"
      },
      "execution_count": 22,
      "outputs": []
    },
    {
      "cell_type": "markdown",
      "source": [
        "Splitting the data into train and test set"
      ],
      "metadata": {
        "id": "mC1rMeQaGV9M"
      }
    },
    {
      "cell_type": "code",
      "source": [
        "X_train = data_train.iloc[:, :-1].values\n",
        "Y_train = data_train.iloc[:, -1].values\n",
        "X_test = data.iloc[[116, 327, 290, 201, 190, 390, 268, 391,  89, 370, 241,  79,  26,\n",
        "       364, 148, 316, 247, 232,  97, 298, 387, 138, 158, 326,  13, 160,\n",
        "       308,  93, 163, 240,  65,  73, 292,   9, 185, 149, 113,  29, 332,\n",
        "       366, 122, 396,  20, 271, 153, 169, 249, 399, 221, 114, 331,  54,\n",
        "       196, 245, 165, 103, 170,  99, 108, 304,  83,  47, 283, 230, 314,\n",
        "       111, 342, 282, 210,  16, 141,  27,  59, 289, 242, 301, 263,  12,\n",
        "       234, 237], :-1].values\n",
        "Y_test = data.iloc[[116, 327, 290, 201, 190, 390, 268, 391,  89, 370, 241,  79,  26,\n",
        "       364, 148, 316, 247, 232,  97, 298, 387, 138, 158, 326,  13, 160,\n",
        "       308,  93, 163, 240,  65,  73, 292,   9, 185, 149, 113,  29, 332,\n",
        "       366, 122, 396,  20, 271, 153, 169, 249, 399, 221, 114, 331,  54,\n",
        "       196, 245, 165, 103, 170,  99, 108, 304,  83,  47, 283, 230, 314,\n",
        "       111, 342, 282, 210,  16, 141,  27,  59, 289, 242, 301, 263,  12,\n",
        "       234, 237], -1].values"
      ],
      "metadata": {
        "id": "XGFEpHJVGUmd"
      },
      "execution_count": 23,
      "outputs": []
    },
    {
      "cell_type": "markdown",
      "metadata": {
        "id": "IwplADIO8X_M"
      },
      "source": [
        "## **Charting the Course: Fitting a Model with Logistic Regression**"
      ]
    },
    {
      "cell_type": "markdown",
      "metadata": {
        "id": "ypUs3Otb8X_N"
      },
      "source": [
        "Recall that we are predicting the `admit` column using `gre`, `gpa` and the prestige dummy variables 2 through 4."
      ]
    },
    {
      "cell_type": "code",
      "source": [
        "model = LogisticRegression()\n",
        "model.fit(X_train, Y_train)"
      ],
      "metadata": {
        "id": "8hmTbqXiNWrX",
        "colab": {
          "base_uri": "https://localhost:8080/",
          "height": 223
        },
        "outputId": "1659753d-c899-41c9-d27b-decad6659021"
      },
      "execution_count": 24,
      "outputs": [
        {
          "output_type": "stream",
          "name": "stderr",
          "text": [
            "/usr/local/lib/python3.10/dist-packages/sklearn/linear_model/_logistic.py:458: ConvergenceWarning: lbfgs failed to converge (status=1):\n",
            "STOP: TOTAL NO. of ITERATIONS REACHED LIMIT.\n",
            "\n",
            "Increase the number of iterations (max_iter) or scale the data as shown in:\n",
            "    https://scikit-learn.org/stable/modules/preprocessing.html\n",
            "Please also refer to the documentation for alternative solver options:\n",
            "    https://scikit-learn.org/stable/modules/linear_model.html#logistic-regression\n",
            "  n_iter_i = _check_optimize_result(\n"
          ]
        },
        {
          "output_type": "execute_result",
          "data": {
            "text/plain": [
              "LogisticRegression()"
            ],
            "text/html": [
              "<style>#sk-container-id-1 {color: black;background-color: white;}#sk-container-id-1 pre{padding: 0;}#sk-container-id-1 div.sk-toggleable {background-color: white;}#sk-container-id-1 label.sk-toggleable__label {cursor: pointer;display: block;width: 100%;margin-bottom: 0;padding: 0.3em;box-sizing: border-box;text-align: center;}#sk-container-id-1 label.sk-toggleable__label-arrow:before {content: \"▸\";float: left;margin-right: 0.25em;color: #696969;}#sk-container-id-1 label.sk-toggleable__label-arrow:hover:before {color: black;}#sk-container-id-1 div.sk-estimator:hover label.sk-toggleable__label-arrow:before {color: black;}#sk-container-id-1 div.sk-toggleable__content {max-height: 0;max-width: 0;overflow: hidden;text-align: left;background-color: #f0f8ff;}#sk-container-id-1 div.sk-toggleable__content pre {margin: 0.2em;color: black;border-radius: 0.25em;background-color: #f0f8ff;}#sk-container-id-1 input.sk-toggleable__control:checked~div.sk-toggleable__content {max-height: 200px;max-width: 100%;overflow: auto;}#sk-container-id-1 input.sk-toggleable__control:checked~label.sk-toggleable__label-arrow:before {content: \"▾\";}#sk-container-id-1 div.sk-estimator input.sk-toggleable__control:checked~label.sk-toggleable__label {background-color: #d4ebff;}#sk-container-id-1 div.sk-label input.sk-toggleable__control:checked~label.sk-toggleable__label {background-color: #d4ebff;}#sk-container-id-1 input.sk-hidden--visually {border: 0;clip: rect(1px 1px 1px 1px);clip: rect(1px, 1px, 1px, 1px);height: 1px;margin: -1px;overflow: hidden;padding: 0;position: absolute;width: 1px;}#sk-container-id-1 div.sk-estimator {font-family: monospace;background-color: #f0f8ff;border: 1px dotted black;border-radius: 0.25em;box-sizing: border-box;margin-bottom: 0.5em;}#sk-container-id-1 div.sk-estimator:hover {background-color: #d4ebff;}#sk-container-id-1 div.sk-parallel-item::after {content: \"\";width: 100%;border-bottom: 1px solid gray;flex-grow: 1;}#sk-container-id-1 div.sk-label:hover label.sk-toggleable__label {background-color: #d4ebff;}#sk-container-id-1 div.sk-serial::before {content: \"\";position: absolute;border-left: 1px solid gray;box-sizing: border-box;top: 0;bottom: 0;left: 50%;z-index: 0;}#sk-container-id-1 div.sk-serial {display: flex;flex-direction: column;align-items: center;background-color: white;padding-right: 0.2em;padding-left: 0.2em;position: relative;}#sk-container-id-1 div.sk-item {position: relative;z-index: 1;}#sk-container-id-1 div.sk-parallel {display: flex;align-items: stretch;justify-content: center;background-color: white;position: relative;}#sk-container-id-1 div.sk-item::before, #sk-container-id-1 div.sk-parallel-item::before {content: \"\";position: absolute;border-left: 1px solid gray;box-sizing: border-box;top: 0;bottom: 0;left: 50%;z-index: -1;}#sk-container-id-1 div.sk-parallel-item {display: flex;flex-direction: column;z-index: 1;position: relative;background-color: white;}#sk-container-id-1 div.sk-parallel-item:first-child::after {align-self: flex-end;width: 50%;}#sk-container-id-1 div.sk-parallel-item:last-child::after {align-self: flex-start;width: 50%;}#sk-container-id-1 div.sk-parallel-item:only-child::after {width: 0;}#sk-container-id-1 div.sk-dashed-wrapped {border: 1px dashed gray;margin: 0 0.4em 0.5em 0.4em;box-sizing: border-box;padding-bottom: 0.4em;background-color: white;}#sk-container-id-1 div.sk-label label {font-family: monospace;font-weight: bold;display: inline-block;line-height: 1.2em;}#sk-container-id-1 div.sk-label-container {text-align: center;}#sk-container-id-1 div.sk-container {/* jupyter's `normalize.less` sets `[hidden] { display: none; }` but bootstrap.min.css set `[hidden] { display: none !important; }` so we also need the `!important` here to be able to override the default hidden behavior on the sphinx rendered scikit-learn.org. See: https://github.com/scikit-learn/scikit-learn/issues/21755 */display: inline-block !important;position: relative;}#sk-container-id-1 div.sk-text-repr-fallback {display: none;}</style><div id=\"sk-container-id-1\" class=\"sk-top-container\"><div class=\"sk-text-repr-fallback\"><pre>LogisticRegression()</pre><b>In a Jupyter environment, please rerun this cell to show the HTML representation or trust the notebook. <br />On GitHub, the HTML representation is unable to render, please try loading this page with nbviewer.org.</b></div><div class=\"sk-container\" hidden><div class=\"sk-item\"><div class=\"sk-estimator sk-toggleable\"><input class=\"sk-toggleable__control sk-hidden--visually\" id=\"sk-estimator-id-1\" type=\"checkbox\" checked><label for=\"sk-estimator-id-1\" class=\"sk-toggleable__label sk-toggleable__label-arrow\">LogisticRegression</label><div class=\"sk-toggleable__content\"><pre>LogisticRegression()</pre></div></div></div></div></div>"
            ]
          },
          "metadata": {},
          "execution_count": 24
        }
      ]
    },
    {
      "cell_type": "markdown",
      "source": [
        "## **Navigating Uncharted Waters: Predicting 'admit' with Test Dataset**\n",
        "\n"
      ],
      "metadata": {
        "id": "PMyjXouuW1il"
      }
    },
    {
      "cell_type": "code",
      "source": [
        "Y_pred = model.predict(X_test)"
      ],
      "metadata": {
        "id": "75UkHWgqOORU"
      },
      "execution_count": 25,
      "outputs": []
    },
    {
      "cell_type": "markdown",
      "source": [
        "## **Mapping the Terrain: Evaluating Model Performance and Accuracy**"
      ],
      "metadata": {
        "id": "na-V01QIXCOG"
      }
    },
    {
      "cell_type": "markdown",
      "source": [
        "Given the imbalance within our dataset, the F1 score serves as our chosen performance metric.\n"
      ],
      "metadata": {
        "id": "rKowZNASXOFM"
      }
    },
    {
      "cell_type": "markdown",
      "source": [
        "The F1 score represents the harmonic mean of precision and recall. It attains its optimal value of 1 when both precision and recall are at their best and decreases towards 0 as performance deteriorates.\n"
      ],
      "metadata": {
        "id": "-ayTTtuTXMuD"
      }
    },
    {
      "cell_type": "code",
      "source": [
        "confusion_matrix(Y_test, Y_pred)"
      ],
      "metadata": {
        "colab": {
          "base_uri": "https://localhost:8080/"
        },
        "id": "V0KfuFRPOba8",
        "outputId": "91e61e1a-b8eb-485e-e80c-cd9dde54b48a"
      },
      "execution_count": 28,
      "outputs": [
        {
          "output_type": "execute_result",
          "data": {
            "text/plain": [
              "array([[63,  3],\n",
              "       [ 5,  9]])"
            ]
          },
          "metadata": {},
          "execution_count": 28
        }
      ]
    },
    {
      "cell_type": "code",
      "source": [
        "# Generating Confusion Matrix\n",
        "cm = confusion_matrix(Y_test, Y_pred)\n",
        "from sklearn.metrics import confusion_matrix, accuracy_score, precision_score, recall_score, f1_score\n",
        "\n",
        "# Plotting Confusion Matrix\n",
        "plt.figure(figsize=(8, 6))\n",
        "sns.heatmap(cm, annot=True, cmap=\"Blues\", fmt=\"d\", linewidths=0.5)\n",
        "plt.title(\"Confusion Matrix\")\n",
        "plt.xlabel(\"Predicted Labels\")\n",
        "plt.ylabel(\"True Labels\")\n",
        "plt.show()\n",
        "\n",
        "# Calculating Accuracy and Other Metrics\n",
        "accuracy = accuracy_score(Y_test, Y_pred)\n",
        "precision = precision_score(Y_test, Y_pred)\n",
        "recall = recall_score(Y_test, Y_pred)\n",
        "f1 = f1_score(Y_test, Y_pred)\n",
        "\n",
        "print(f\"Accuracy: {accuracy:.2f}\")\n",
        "print(f\"Precision: {precision:.2f}\")\n",
        "print(f\"Recall: {recall:.2f}\")\n",
        "print(f\"F1 Score: {f1:.2f}\")"
      ],
      "metadata": {
        "colab": {
          "base_uri": "https://localhost:8080/",
          "height": 638
        },
        "id": "nBBnnVL2On8M",
        "outputId": "e7fb85b2-6dc9-493a-9b6c-b40dadeb2234"
      },
      "execution_count": 30,
      "outputs": [
        {
          "output_type": "display_data",
          "data": {
            "text/plain": [
              "<Figure size 800x600 with 2 Axes>"
            ],
            "image/png": "[encoded data removed]"
          },
          "metadata": {}
        },
        {
          "output_type": "stream",
          "name": "stdout",
          "text": [
            "Accuracy: 0.90\n",
            "Precision: 0.75\n",
            "Recall: 0.64\n",
            "F1 Score: 0.69\n"
          ]
        }
      ]
    },
    {
      "cell_type": "markdown",
      "source": [
        "Computing the F1 score"
      ],
      "metadata": {
        "id": "HIDGSaDnXb8M"
      }
    },
    {
      "cell_type": "markdown",
      "source": [
        " We use  `average = 'weighted'`.This accounts for label imbalance"
      ],
      "metadata": {
        "id": "ba-rXw2WXhll"
      }
    },
    {
      "cell_type": "code",
      "source": [
        " f1_score(Y_test, Y_pred, average='weighted')"
      ],
      "metadata": {
        "colab": {
          "base_uri": "https://localhost:8080/"
        },
        "id": "qhLoU7BfO0Kt",
        "outputId": "fac10509-000c-4eed-83b6-fba3c3b72cd2"
      },
      "execution_count": 32,
      "outputs": [
        {
          "output_type": "execute_result",
          "data": {
            "text/plain": [
              "0.8969001148105626"
            ]
          },
          "metadata": {},
          "execution_count": 32
        }
      ]
    },
    {
      "cell_type": "markdown",
      "source": [
        "Our overall accuracy is 90%"
      ],
      "metadata": {
        "id": "Z4qmU7poY1YN"
      }
    }
  ],
  "metadata": {
    "kernelspec": {
      "display_name": "Python 3",
      "language": "python",
      "name": "python3"
    },
    "language_info": {
      "codemirror_mode": {
        "name": "ipython",
        "version": 3
      },
      "file_extension": ".py",
      "mimetype": "text/x-python",
      "name": "python",
      "nbconvert_exporter": "python",
      "pygments_lexer": "ipython3",
      "version": "3.5.2"
    },
    "colab": {
      "provenance": []
    }
  },
  "nbformat": 4,
  "nbformat_minor": 0
}